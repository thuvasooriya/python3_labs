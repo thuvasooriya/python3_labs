{
  "nbformat": 4,
  "nbformat_minor": 0,
  "metadata": {
    "colab": {
      "provenance": [],
      "private_outputs": true,
      "include_colab_link": true
    },
    "kernelspec": {
      "name": "python3",
      "display_name": "Python 3"
    },
    "language_info": {
      "name": "python"
    }
  },
  "cells": [
    {
      "cell_type": "markdown",
      "metadata": {
        "id": "view-in-github",
        "colab_type": "text"
      },
      "source": [
        "<a href=\"https://colab.research.google.com/github/thuvasooriya/python3_labs/blob/main/google_colab/ms_gdrive_manager.ipynb\" target=\"_parent\"><img src=\"https://colab.research.google.com/assets/colab-badge.svg\" alt=\"Open In Colab\"/></a>"
      ]
    },
    {
      "cell_type": "code",
      "execution_count": null,
      "metadata": {
        "id": "bfWyIj0BS7yY",
        "cellView": "form"
      },
      "outputs": [],
      "source": [
        "#@markdown <h2><b>⬅ Run This Cell to  Mount Gdrive</b></h2>\n",
        "from google.colab import drive\n",
        "drive.mount('/content/drive')"
      ]
    },
    {
      "cell_type": "markdown",
      "source": [
        "## **File Organizing** 📁"
      ],
      "metadata": {
        "id": "zYdfsdTvtL6g"
      }
    },
    {
      "cell_type": "code",
      "source": [
        "#@markdown <h2><b>⬅ Run This Cell to copy files/folders</b></h2>\n",
        "Copy_From_Drive = \"temp_drive\" #@param {type:\"string\"}\n",
        "Copy_From_Path = \"\" #@param {type:\"string\"}\n",
        "Copy_To_Drive = \"temp_drive\" #@param {type:\"string\"}\n",
        "Copy_To_Path = \"\" #@param {type:\"string\"}\n",
        "Copy_From = \"/content/drive/Shareddrives/\" + Copy_From_Drive + \"/\" + Copy_From_Path\n",
        "Copy_To = \"/content/drive/Shareddrives/\" + Copy_To_Drive + \"/\" + Copy_To_Path\n",
        "!cp -vr \"$Copy_From\" '$Copy_To'"
      ],
      "metadata": {
        "id": "hkLCJxKhVYKA",
        "cellView": "form"
      },
      "execution_count": null,
      "outputs": []
    },
    {
      "cell_type": "code",
      "source": [
        "#@markdown <h2><b>⬅ Run This Cell to move files/folders</b></h2>\n",
        "Move_From_Drive = \"temp_drive\" #@param {type:\"string\"}\n",
        "Move_From_Path = \"\" #@param {type:\"string\"}\n",
        "Move_To_Drive = \"temp_drive\" #@param {type:\"string\"}\n",
        "Move_To_Path = \"\" #@param {type:\"string\"}\n",
        "Move_From = \"/content/drive/Shareddrives/\" + Move_From_Drive + \"/\" + Move_From_Path\n",
        "Move_To = \"/content/drive/Shareddrives/\" + Move_To_Drive + \"/\" + Move_To_Path\n",
        "!mv -v -i \"$Move_From\" '$Move_To'"
      ],
      "metadata": {
        "id": "8xRhrGOErtTF",
        "cellView": "form"
      },
      "execution_count": null,
      "outputs": []
    },
    {
      "cell_type": "markdown",
      "source": [
        "## **Archives** 📦"
      ],
      "metadata": {
        "id": "OFFFhiXVtWMB"
      }
    },
    {
      "cell_type": "code",
      "source": [
        "#@title  { display-mode: \"form\" }\n",
        "#@markdown <h2><b>⬅ Run This Cell to install archive dependancies\n",
        "!apt-get install rar\n",
        "!apt install p7zip-full"
      ],
      "metadata": {
        "id": "k9c2tRJg1b-k"
      },
      "execution_count": null,
      "outputs": []
    },
    {
      "cell_type": "code",
      "source": [
        "#@markdown <h2><b>⬅ Run this Cell to RAR the folder specified</b></h2>\n",
        "#@markdown <p>&nbsp;🗜 🗂 Run the above cell before using this.</p>\n",
        "Input_Path = \"/content/drive/Shareddrives/temp_drive\" #@param {type:\"string\"}\n",
        "Output_File = \"/content/drive/Shareddrives/temp_drive\" #@param {type:\"string\"}\n",
        "\n",
        "!rar a \"$Output_File\" \"$Input_Path\""
      ],
      "metadata": {
        "id": "-evAYJ971dD0",
        "cellView": "form"
      },
      "execution_count": null,
      "outputs": []
    },
    {
      "cell_type": "code",
      "metadata": {
        "id": "O1_kc7HBeslm",
        "cellView": "form"
      },
      "source": [
        "#@markdown <h2><b>⬅ Run this Cell to unzip the folder specified</b></h2>\n",
        "#<p>&nbsp;🗜 🗂 Run the above cell before using this.</p>\n",
        "Input_File = \"/content/drive/Shareddrives/temp_drive\" #@param {type:\"string\"}\n",
        "Output_Path = \"/content/drive/Shareddrives/temp_drive\" #@param {type:\"string\"}\n",
        "# !mkdir -p /content/Skillshare_archives\n",
        "# !unzip \"$Input_File\" -d \"$Output_Path\"\n",
        "!7z x \"$Input_File\""
      ],
      "execution_count": null,
      "outputs": []
    },
    {
      "cell_type": "markdown",
      "source": [
        "## **Under Testing** 👇🏽 "
      ],
      "metadata": {
        "id": "IMQNhYTw-sqa"
      }
    },
    {
      "cell_type": "code",
      "source": [
        "!mv -v -i \"/content/drive/MyDrive/S01.Complete.720p.10bit\" '/content/drive/Shareddrives/temp_drive/'"
      ],
      "metadata": {
        "id": "3OeNLrPKgWHs"
      },
      "execution_count": null,
      "outputs": []
    },
    {
      "cell_type": "code",
      "source": [
        "!cp -vr \"/content/drive/MyDrive/test\" '/content/drive/Shareddrives/temp_drive/'"
      ],
      "metadata": {
        "id": "-OY5ii96cUqu"
      },
      "execution_count": null,
      "outputs": []
    },
    {
      "cell_type": "code",
      "source": [
        "#@markdown <h2><b>⬅ Run This Cell to list folders in a Shared Drive</b></h2>\n",
        "Shared_Drive_Name = \"temp_drive\" #@param {type:\"string\"}\n",
        "drive_path = '/content/drive/Shareddrives/' + Shared_Drive_Name\n",
        "!ls -d *'$drive_path'"
      ],
      "metadata": {
        "id": "s0AQH4dgVX8_",
        "cellView": "form"
      },
      "execution_count": null,
      "outputs": []
    },
    {
      "cell_type": "code",
      "source": [
        "#@markdown <h2><b>⬅ Run This Cell to search for files in a Shared Drive</b></h2>\n",
        "Shared_Drive_Name = \"temp_drive\" #@param {type:\"string\"}\n",
        "Search_Term = \"\" #@param {type:\"string\"}\n",
        "Extensions = \"\" #@param {type:\"string\"}\n",
        "Drive_Path = '/content/drive/Shareddrives/' + Shared_Drive_Name + \"/\"\n",
        "# print(Drive_Path)\n",
        "!grep -rwl '$Drive_Path' -e \"$Search_Term\"\n",
        "# !grep -rl \"$Search_Term\"  \"$Drive_Path\""
      ],
      "metadata": {
        "id": "u1tZV_Xh3ygO",
        "cellView": "form"
      },
      "execution_count": null,
      "outputs": []
    },
    {
      "cell_type": "code",
      "source": [
        "#@markdown <h2><b>⬅ Run This Cell to search for files in a Shared Drive</b></h2>\n",
        "Shared_Drive_Name = \"temp_drive\" #@param {type:\"string\"}\n",
        "Search_Term = \"\" #@param {type:\"string\"}\n",
        "drive_path = '/content/drive/Shareddrives/' + Shared_Drive_Name + \"/\"\n",
        "!find '$drive_path' -type d -iname \"$Search_Term\""
      ],
      "metadata": {
        "id": "9Mpjd6St7EQ0",
        "cellView": "form"
      },
      "execution_count": null,
      "outputs": []
    },
    {
      "cell_type": "code",
      "source": [
        "#@markdown <h2><b>⬅ Run This Cell to list files in a Shared Drive</b></h2>\n",
        "Shared_Drive_Name = \"temp_drive\" #@param {type:\"string\"}\n",
        "drive_path = '/content/drive/Shareddrives/' + Shared_Drive_Name\n",
        "!ls '$drive_path'"
      ],
      "metadata": {
        "id": "x56Xkj4gVXtY",
        "cellView": "form"
      },
      "execution_count": null,
      "outputs": []
    }
  ]
}